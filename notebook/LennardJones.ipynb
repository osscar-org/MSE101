{
 "cells": [
  {
   "cell_type": "markdown",
   "metadata": {},
   "source": [
    "# Tutorial for Lennard Jones Potential"
   ]
  },
  {
   "cell_type": "markdown",
   "metadata": {},
   "source": [
    "The Lennard-Jones potential describes the interaction between atom, i.e. the energy depending on the distance. It is written as:\n",
    "\n",
    "$E(r)= \\epsilon (\\frac{a}{r^12}-\\frac{b}{r^6})$\n",
    "\n",
    "It can be normalized by using $\\rho = \\frac{r_{min}}{r}$\n",
    "\n",
    "The force can be written as:\n",
    "\n",
    "$F(\\rho) = \\frac{d E}{d \\rho} = -12 \\rho(\\frac{1-\\rho^9}{\\rho^14})$"
   ]
  },
  {
   "cell_type": "code",
   "execution_count": 1,
   "metadata": {},
   "outputs": [
    {
     "data": {
      "application/vnd.jupyter.widget-view+json": {
       "model_id": "733d3537e8bf481694237aae467a6284",
       "version_major": 2,
       "version_minor": 0
      },
      "text/plain": [
       "VBox(children=(Figure(animation_duration=80, axes=[Axis(label='Distance', scale=LinearScale(max=1.5, min=0.75)…"
      ]
     },
     "metadata": {},
     "output_type": "display_data"
    }
   ],
   "source": [
    "import numpy as np\n",
    "from bqplot import pyplot as plt\n",
    "from ipywidgets import Checkbox, HBox, VBox, link, jslink, FloatSlider, Button\n",
    "\n",
    "fig1 = plt.figure(1, title='Lennard Jones Potential', animation_duration=80)\n",
    "plt.clear()\n",
    "n = 500\n",
    "x = np.linspace(0.7, 1.6, n)\n",
    "y = (1/x**12 - 2/x**6)\n",
    "\n",
    "y1 = 1/x**12\n",
    "y2 = -2/x**6\n",
    "\n",
    "axes_options = {'x': {'label': 'Distance'}, 'y': {'label': 'Energy'}}\n",
    "\n",
    "line_LJ = plt.plot(x, y, 'r', axes_options=axes_options)\n",
    "line_r = plt.plot(x, y1, 'b', line_style = 'dash_dotted')\n",
    "line_a = plt.plot(x, y2, 'y', line_style = 'dash_dotted')\n",
    "\n",
    "p_dist = plt.scatter(x = [1.0,], y = [-1.0], colors =['orange'], stroke = 'black', default_size = 100)\n",
    "p1 = plt.scatter(x = [1.0,], y = [-1.0], colors =['orange'], stroke = 'black', default_size = 100)\n",
    "\n",
    "\n",
    "plt.ylim(-3, 8.0)\n",
    "plt.xlim(0.75, 1.5)\n",
    "\n",
    "line_r.visible = False\n",
    "line_a.visible = False\n",
    "\n",
    "cb1 = Checkbox(value = False, description = 'Repulsion Energy', disabled = False, indent = True)\n",
    "cb2 = Checkbox(value = False, description = 'Attraction Energy', disabled = False, indent = True)\n",
    "\n",
    "dis = FloatSlider(value = 1.0, min = 0.8, max = 1.5, description = 'Distance: ', step = 0.01)\n",
    "\n",
    "energy_button = Button(description = 'Energy Mimimum')\n",
    "\n",
    "def on_distance_change(change):\n",
    "    p_dist.x = [dis.value]\n",
    "    p_dist.y = [1.0/dis.value**12-2.0/dis.value**6]\n",
    "    p_dist2.x = [dis.value]\n",
    "    p_dist2.y = [-12.0/dis.value**13+12.0/dis.value**7]\n",
    "\n",
    "def on_button_clicked(b):\n",
    "    #p_dist.x = [1.0]\n",
    "    #p_dist.y = [-1.0]\n",
    "    dis.value = 1.0\n",
    "    \n",
    "dis.observe(on_distance_change, names = 'value')\n",
    "energy_button.on_click(on_button_clicked)\n",
    "\n",
    "jslink((cb1, 'value'), (line_r, 'visible'))\n",
    "jslink((cb2, 'value'), (line_a, 'visible'))\n",
    "\n",
    "fig2 = plt.figure(2, title='Force', animation_duration=750)\n",
    "\n",
    "plt.clear()\n",
    "nx = 500\n",
    "xx = np.linspace(0.7, 1.6, n)\n",
    "yx = (-12.0/xx**13 + 12/xx**7)\n",
    "\n",
    "yx1 = -12/xx**13\n",
    "yx2 = 12/xx**7\n",
    "\n",
    "axes_options2 = {'x': {'label': 'Distance'}, 'y': {'label': 'Force'}}\n",
    "\n",
    "l_LJ = plt.plot(xx, yx, 'r', axes_options=axes_options2)\n",
    "l_r = plt.plot(xx, yx1, 'b', line_style = 'dash_dotted')\n",
    "l_a = plt.plot(xx, yx2, 'y', line_style = 'dash_dotted')\n",
    "\n",
    "plt.ylim(-30.0, 10.0)\n",
    "plt.xlim(0.75, 1.5)\n",
    "\n",
    "cb3 = Checkbox(value = False, description = 'Repulsion Force', disabled = False, indent = True)\n",
    "cb4 = Checkbox(value = False, description = 'Attraction Force', disabled = False, indent = True)\n",
    "\n",
    "jslink((cb3, 'value'), (l_r, 'visible'))\n",
    "jslink((cb4, 'value'), (l_a, 'visible'))\n",
    "\n",
    "p_dist2 = plt.scatter(x = [1.0,], y = [0.0], colors =['orange'], stroke = 'black', default_size = 100)\n",
    "p2 = plt.scatter(x = [1.0,], y = [0.0], colors =['orange'], stroke = 'black', default_size = 100)\n",
    "\n",
    "display(VBox([fig1, cb1, cb2, HBox([dis, energy_button]), cb3, cb4, fig2]))"
   ]
  },
  {
   "cell_type": "code",
   "execution_count": null,
   "metadata": {},
   "outputs": [],
   "source": []
  }
 ],
 "metadata": {
  "kernelspec": {
   "display_name": "Python 3",
   "language": "python",
   "name": "python3"
  },
  "language_info": {
   "codemirror_mode": {
    "name": "ipython",
    "version": 3
   },
   "file_extension": ".py",
   "mimetype": "text/x-python",
   "name": "python",
   "nbconvert_exporter": "python",
   "pygments_lexer": "ipython3",
   "version": "3.7.6"
  }
 },
 "nbformat": 4,
 "nbformat_minor": 4
}
